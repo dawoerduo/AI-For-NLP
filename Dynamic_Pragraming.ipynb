{
 "cells": [
  {
   "cell_type": "markdown",
   "metadata": {},
   "source": [
    "# Dynamic Programming"
   ]
  },
  {
   "cell_type": "markdown",
   "metadata": {},
   "source": [
    "# 1. 两个常遇见的问题：数组压平和去除重复值"
   ]
  },
  {
   "cell_type": "markdown",
   "metadata": {},
   "source": [
    "# 2. Python 装饰器的使用"
   ]
  },
  {
   "cell_type": "code",
   "execution_count": 1,
   "metadata": {},
   "outputs": [],
   "source": [
    "import time"
   ]
  },
  {
   "cell_type": "code",
   "execution_count": 2,
   "metadata": {},
   "outputs": [],
   "source": [
    "def func_1(n):\n",
    "    for i in range(n):\n",
    "        print(i)"
   ]
  },
  {
   "cell_type": "code",
   "execution_count": 3,
   "metadata": {},
   "outputs": [],
   "source": [
    "def call_time(func,arg):# 脚手架程序\n",
    "    #函数作为参数传递。Python是面向函数设计 ->概念 可赋值，可返回，作为变量传递\n",
    "    start=time.time()\n",
    "    func(arg)\n",
    "    print (\"used time :{}\".format(time.time()-start))"
   ]
  },
  {
   "cell_type": "code",
   "execution_count": 4,
   "metadata": {},
   "outputs": [],
   "source": [
    "def get_call_time(func):\n",
    "    def _wrap(arg): ## *args,支持变长参数，**kwargs\n",
    "        start=time.time()\n",
    "        result=func(arg)\n",
    "        print('used time :{}'.format(time.time()-start))\n",
    "        return result\n",
    "    return _wrap"
   ]
  },
  {
   "cell_type": "code",
   "execution_count": 5,
   "metadata": {
    "scrolled": true
   },
   "outputs": [
    {
     "name": "stdout",
     "output_type": "stream",
     "text": [
      "0\n",
      "1\n",
      "2\n",
      "3\n",
      "4\n",
      "5\n",
      "6\n",
      "7\n",
      "8\n",
      "9\n",
      "used time :0.0010001659393310547\n"
     ]
    }
   ],
   "source": [
    "call_time(func_1,10)"
   ]
  },
  {
   "cell_type": "code",
   "execution_count": 6,
   "metadata": {},
   "outputs": [],
   "source": [
    "func_1=get_call_time(func_1)  # =>@(decorator)  装饰器"
   ]
  },
  {
   "cell_type": "code",
   "execution_count": 7,
   "metadata": {
    "scrolled": false
   },
   "outputs": [
    {
     "name": "stdout",
     "output_type": "stream",
     "text": [
      "0\n",
      "1\n",
      "2\n",
      "3\n",
      "4\n",
      "5\n",
      "6\n",
      "7\n",
      "8\n",
      "9\n",
      "used time :0.0009961128234863281\n"
     ]
    }
   ],
   "source": [
    "func_1(10)"
   ]
  },
  {
   "cell_type": "markdown",
   "metadata": {},
   "source": [
    "func_slow=get_call_time(func_slow)  # =>@(decorator)  装饰器"
   ]
  },
  {
   "cell_type": "code",
   "execution_count": 8,
   "metadata": {},
   "outputs": [],
   "source": [
    "@get_call_time\n",
    "def func_slow(n):\n",
    "    start=time.time()\n",
    "    for i in range(n):\n",
    "        time.sleep(0.001)\n",
    "        print (i)\n",
    "#    print (\"used time :{}\".format(time.time()-start))"
   ]
  },
  {
   "cell_type": "code",
   "execution_count": 9,
   "metadata": {},
   "outputs": [
    {
     "name": "stdout",
     "output_type": "stream",
     "text": [
      "0\n",
      "1\n",
      "2\n",
      "3\n",
      "4\n",
      "5\n",
      "6\n",
      "7\n",
      "8\n",
      "9\n",
      "used time :0.016986608505249023\n"
     ]
    }
   ],
   "source": [
    "func_slow(10)"
   ]
  },
  {
   "cell_type": "code",
   "execution_count": 10,
   "metadata": {},
   "outputs": [],
   "source": [
    "from functools import wraps"
   ]
  },
  {
   "cell_type": "markdown",
   "metadata": {},
   "source": [
    "加上wraps后可以保留被装饰前函数的信息"
   ]
  },
  {
   "cell_type": "code",
   "execution_count": 11,
   "metadata": {},
   "outputs": [],
   "source": [
    "def my_decorator(func): \n",
    "#    @wraps(func)\n",
    "    def wrapper(*args, **kwargs):       \n",
    "        '''decorator'''        \n",
    "        print('Calling decorated function...')        \n",
    "        return func(*args, **kwargs)    \n",
    "    return wrapper  \n"
   ]
  },
  {
   "cell_type": "code",
   "execution_count": 12,
   "metadata": {},
   "outputs": [],
   "source": [
    "@my_decorator\n",
    "def func_2():\n",
    "    \"\"\"\n",
    "    @ describe the function \n",
    "    \"\"\"\n",
    "    print('Called example function')"
   ]
  },
  {
   "cell_type": "markdown",
   "metadata": {},
   "source": [
    "被装饰后的函数替代原函数信息（函数名等函数属性会发生改变）"
   ]
  },
  {
   "cell_type": "code",
   "execution_count": 13,
   "metadata": {},
   "outputs": [
    {
     "name": "stdout",
     "output_type": "stream",
     "text": [
      "wrapper decorator\n"
     ]
    }
   ],
   "source": [
    "print(func_2.__name__, func_2.__doc__)"
   ]
  },
  {
   "cell_type": "markdown",
   "metadata": {},
   "source": [
    "如果被封装到装饰器里，help会输出装饰器的信息"
   ]
  },
  {
   "cell_type": "code",
   "execution_count": 14,
   "metadata": {
    "scrolled": true
   },
   "outputs": [
    {
     "name": "stdout",
     "output_type": "stream",
     "text": [
      "Help on function wrapper in module __main__:\n",
      "\n",
      "wrapper(*args, **kwargs)\n",
      "    decorator\n",
      "\n"
     ]
    }
   ],
   "source": [
    "help(func_2)"
   ]
  },
  {
   "cell_type": "markdown",
   "metadata": {},
   "source": [
    "# 3. 动态规划"
   ]
  },
  {
   "attachments": {
    "%E5%8A%A8%E6%80%81%E5%88%87%E5%89%B2%E9%97%AE%E9%A2%98.PNG": {
     "image/png": "[encoded data removed]"
    }
   },
   "cell_type": "markdown",
   "metadata": {},
   "source": [
    "![%E5%8A%A8%E6%80%81%E5%88%87%E5%89%B2%E9%97%AE%E9%A2%98.PNG](attachment:%E5%8A%A8%E6%80%81%E5%88%87%E5%89%B2%E9%97%AE%E9%A2%98.PNG)"
   ]
  },
  {
   "cell_type": "code",
   "execution_count": 15,
   "metadata": {},
   "outputs": [],
   "source": [
    "original_price=[1,5,8,9,10,17,17,20,24,30]"
   ]
  },
  {
   "cell_type": "code",
   "execution_count": 16,
   "metadata": {},
   "outputs": [],
   "source": [
    "from collections import defaultdict"
   ]
  },
  {
   "cell_type": "code",
   "execution_count": 17,
   "metadata": {},
   "outputs": [],
   "source": [
    "price =defaultdict(int)"
   ]
  },
  {
   "cell_type": "code",
   "execution_count": 18,
   "metadata": {},
   "outputs": [],
   "source": [
    "for i,p in enumerate (original_price):\n",
    "    price[i+1]=p"
   ]
  },
  {
   "cell_type": "code",
   "execution_count": 19,
   "metadata": {},
   "outputs": [],
   "source": [
    "assert price[1]==1"
   ]
  },
  {
   "cell_type": "code",
   "execution_count": 20,
   "metadata": {},
   "outputs": [
    {
     "data": {
      "text/plain": [
       "24"
      ]
     },
     "execution_count": 20,
     "metadata": {},
     "output_type": "execute_result"
    }
   ],
   "source": [
    "price[9]"
   ]
  },
  {
   "cell_type": "code",
   "execution_count": 21,
   "metadata": {},
   "outputs": [],
   "source": [
    "solution={}\n",
    "# for a given length N,we set the corresponding split parts\n",
    "# exp   4:(2,2)\n",
    "#"
   ]
  },
  {
   "cell_type": "code",
   "execution_count": 22,
   "metadata": {},
   "outputs": [],
   "source": [
    "def r(n):\n",
    "    return max(\n",
    "       # [p[n],r[1]+r[n-1],r[2]+r[n-2],...r[n-1]+r[1]] \n",
    "        [price[n]]+[(r(i)+r(n-i)) for i in range(1,n)]\n",
    "    )"
   ]
  },
  {
   "cell_type": "markdown",
   "metadata": {},
   "source": [
    "#### r(12) #如果N很大，就会运行的很慢 :估算时间复杂度 f(n)=f(n-1)...+f(2)+f(1) => n*f(n-1)  N的阶乘 非多项式"
   ]
  },
  {
   "cell_type": "code",
   "execution_count": 23,
   "metadata": {},
   "outputs": [
    {
     "data": {
      "text/plain": [
       "30"
      ]
     },
     "execution_count": 23,
     "metadata": {},
     "output_type": "execute_result"
    }
   ],
   "source": [
    "r(10)"
   ]
  },
  {
   "cell_type": "markdown",
   "metadata": {},
   "source": [
    "#### 提供solution"
   ]
  },
  {
   "cell_type": "code",
   "execution_count": 24,
   "metadata": {
    "scrolled": true
   },
   "outputs": [],
   "source": [
    " def r_s(n):\n",
    "    max_price,split_point = max(\n",
    "       # [p[n],r[1]+r[n-1],r[2]+r[n-2],...r[n-1]+r[1]] \n",
    "        [(price[n],0)]+[(r(i)+r(n-i),i) for i in range(1,n)], key=lambda x:x[0]\n",
    "    )\n",
    "    solution[n]=(split_point, n-split_point)\n",
    "    return max_price"
   ]
  },
  {
   "cell_type": "code",
   "execution_count": 25,
   "metadata": {},
   "outputs": [
    {
     "data": {
      "text/plain": [
       "22"
      ]
     },
     "execution_count": 25,
     "metadata": {},
     "output_type": "execute_result"
    }
   ],
   "source": [
    "r_s(8)"
   ]
  },
  {
   "cell_type": "code",
   "execution_count": 26,
   "metadata": {},
   "outputs": [
    {
     "data": {
      "text/plain": [
       "(2, 6)"
      ]
     },
     "execution_count": 26,
     "metadata": {},
     "output_type": "execute_result"
    }
   ],
   "source": [
    "solution[8]"
   ]
  },
  {
   "cell_type": "markdown",
   "metadata": {},
   "source": [
    "### 解决计算速度问题"
   ]
  },
  {
   "cell_type": "code",
   "execution_count": 27,
   "metadata": {},
   "outputs": [],
   "source": [
    "solution={}"
   ]
  },
  {
   "cell_type": "code",
   "execution_count": 28,
   "metadata": {},
   "outputs": [],
   "source": [
    "#i=0\n",
    "def memo(func):  \n",
    "    cache = {}\n",
    "    print (\"this is a decorator named memo\")\n",
    "#    @wraps(func)\n",
    "#   i=0 #如何将装饰器内部的变量作为global传递给调用函数？\n",
    "    def _wrap(n,i=0): ## ? *args, **kwargs\n",
    "        i+=1\n",
    "#        print (\"call times:{}\".format(i))\n",
    "#        print (func.__name__)\n",
    "        if n in cache: \n",
    "            result = cache[n]\n",
    "        else:\n",
    "            result = func(n) #迭代时func时_wrap 还是 r_opti? \n",
    "            cache[n] = result\n",
    "#       print (cache)\n",
    "        return result\n",
    "    return _wrap"
   ]
  },
  {
   "cell_type": "markdown",
   "metadata": {},
   "source": [
    "如何在前面已定义的函数加装饰器？"
   ]
  },
  {
   "cell_type": "code",
   "execution_count": 29,
   "metadata": {
    "scrolled": true
   },
   "outputs": [
    {
     "name": "stdout",
     "output_type": "stream",
     "text": [
      "this is a decorator named memo\n"
     ]
    }
   ],
   "source": [
    "@memo\n",
    "def r_opti(n):\n",
    "    max_price, split_point = max(    \n",
    "        [(price[n], 0)] + [(r_opti(i) + r_opti(n-i), i) for i in range(1, n)], key=lambda x: x[0]\n",
    "    )\n",
    "    solution[n]=(split_point, n-split_point)\n",
    "    return max_price"
   ]
  },
  {
   "cell_type": "markdown",
   "metadata": {},
   "source": [
    "r(16)"
   ]
  },
  {
   "cell_type": "code",
   "execution_count": 30,
   "metadata": {
    "scrolled": true
   },
   "outputs": [
    {
     "name": "stdout",
     "output_type": "stream",
     "text": [
      "_wrap\n"
     ]
    }
   ],
   "source": [
    "print(r_opti.__name__)"
   ]
  },
  {
   "cell_type": "code",
   "execution_count": 31,
   "metadata": {
    "scrolled": true
   },
   "outputs": [
    {
     "data": {
      "text/plain": [
       "5"
      ]
     },
     "execution_count": 31,
     "metadata": {},
     "output_type": "execute_result"
    }
   ],
   "source": [
    "r_opti(2)"
   ]
  },
  {
   "cell_type": "code",
   "execution_count": 32,
   "metadata": {
    "scrolled": false
   },
   "outputs": [
    {
     "data": {
      "text/plain": [
       "960"
      ]
     },
     "execution_count": 32,
     "metadata": {},
     "output_type": "execute_result"
    }
   ],
   "source": [
    "r_opti(320)"
   ]
  },
  {
   "cell_type": "code",
   "execution_count": 33,
   "metadata": {
    "scrolled": true
   },
   "outputs": [
    {
     "data": {
      "text/plain": [
       "{1: (0, 1),\n",
       " 2: (0, 2),\n",
       " 3: (0, 3),\n",
       " 4: (2, 2),\n",
       " 5: (2, 3),\n",
       " 6: (0, 6),\n",
       " 7: (1, 6),\n",
       " 8: (2, 6),\n",
       " 9: (3, 6),\n",
       " 10: (0, 10),\n",
       " 11: (1, 10),\n",
       " 12: (2, 10),\n",
       " 13: (3, 10),\n",
       " 14: (2, 12),\n",
       " 15: (2, 13),\n",
       " 16: (6, 10),\n",
       " 17: (1, 16),\n",
       " 18: (2, 16),\n",
       " 19: (3, 16),\n",
       " 20: (10, 10),\n",
       " 21: (1, 20),\n",
       " 22: (2, 20),\n",
       " 23: (3, 20),\n",
       " 24: (2, 22),\n",
       " 25: (2, 23),\n",
       " 26: (6, 20),\n",
       " 27: (1, 26),\n",
       " 28: (2, 26),\n",
       " 29: (3, 26),\n",
       " 30: (10, 20),\n",
       " 31: (1, 30),\n",
       " 32: (2, 30),\n",
       " 33: (3, 30),\n",
       " 34: (2, 32),\n",
       " 35: (2, 33),\n",
       " 36: (6, 30),\n",
       " 37: (1, 36),\n",
       " 38: (2, 36),\n",
       " 39: (3, 36),\n",
       " 40: (10, 30),\n",
       " 41: (1, 40),\n",
       " 42: (2, 40),\n",
       " 43: (3, 40),\n",
       " 44: (2, 42),\n",
       " 45: (2, 43),\n",
       " 46: (6, 40),\n",
       " 47: (1, 46),\n",
       " 48: (2, 46),\n",
       " 49: (3, 46),\n",
       " 50: (10, 40),\n",
       " 51: (1, 50),\n",
       " 52: (2, 50),\n",
       " 53: (3, 50),\n",
       " 54: (2, 52),\n",
       " 55: (2, 53),\n",
       " 56: (6, 50),\n",
       " 57: (1, 56),\n",
       " 58: (2, 56),\n",
       " 59: (3, 56),\n",
       " 60: (10, 50),\n",
       " 61: (1, 60),\n",
       " 62: (2, 60),\n",
       " 63: (3, 60),\n",
       " 64: (2, 62),\n",
       " 65: (2, 63),\n",
       " 66: (6, 60),\n",
       " 67: (1, 66),\n",
       " 68: (2, 66),\n",
       " 69: (3, 66),\n",
       " 70: (10, 60),\n",
       " 71: (1, 70),\n",
       " 72: (2, 70),\n",
       " 73: (3, 70),\n",
       " 74: (2, 72),\n",
       " 75: (2, 73),\n",
       " 76: (6, 70),\n",
       " 77: (1, 76),\n",
       " 78: (2, 76),\n",
       " 79: (3, 76),\n",
       " 80: (10, 70),\n",
       " 81: (1, 80),\n",
       " 82: (2, 80),\n",
       " 83: (3, 80),\n",
       " 84: (2, 82),\n",
       " 85: (2, 83),\n",
       " 86: (6, 80),\n",
       " 87: (1, 86),\n",
       " 88: (2, 86),\n",
       " 89: (3, 86),\n",
       " 90: (10, 80),\n",
       " 91: (1, 90),\n",
       " 92: (2, 90),\n",
       " 93: (3, 90),\n",
       " 94: (2, 92),\n",
       " 95: (2, 93),\n",
       " 96: (6, 90),\n",
       " 97: (1, 96),\n",
       " 98: (2, 96),\n",
       " 99: (3, 96),\n",
       " 100: (10, 90),\n",
       " 101: (1, 100),\n",
       " 102: (2, 100),\n",
       " 103: (3, 100),\n",
       " 104: (2, 102),\n",
       " 105: (2, 103),\n",
       " 106: (6, 100),\n",
       " 107: (1, 106),\n",
       " 108: (2, 106),\n",
       " 109: (3, 106),\n",
       " 110: (10, 100),\n",
       " 111: (1, 110),\n",
       " 112: (2, 110),\n",
       " 113: (3, 110),\n",
       " 114: (2, 112),\n",
       " 115: (2, 113),\n",
       " 116: (6, 110),\n",
       " 117: (1, 116),\n",
       " 118: (2, 116),\n",
       " 119: (3, 116),\n",
       " 120: (10, 110),\n",
       " 121: (1, 120),\n",
       " 122: (2, 120),\n",
       " 123: (3, 120),\n",
       " 124: (2, 122),\n",
       " 125: (2, 123),\n",
       " 126: (6, 120),\n",
       " 127: (1, 126),\n",
       " 128: (2, 126),\n",
       " 129: (3, 126),\n",
       " 130: (10, 120),\n",
       " 131: (1, 130),\n",
       " 132: (2, 130),\n",
       " 133: (3, 130),\n",
       " 134: (2, 132),\n",
       " 135: (2, 133),\n",
       " 136: (6, 130),\n",
       " 137: (1, 136),\n",
       " 138: (2, 136),\n",
       " 139: (3, 136),\n",
       " 140: (10, 130),\n",
       " 141: (1, 140),\n",
       " 142: (2, 140),\n",
       " 143: (3, 140),\n",
       " 144: (2, 142),\n",
       " 145: (2, 143),\n",
       " 146: (6, 140),\n",
       " 147: (1, 146),\n",
       " 148: (2, 146),\n",
       " 149: (3, 146),\n",
       " 150: (10, 140),\n",
       " 151: (1, 150),\n",
       " 152: (2, 150),\n",
       " 153: (3, 150),\n",
       " 154: (2, 152),\n",
       " 155: (2, 153),\n",
       " 156: (6, 150),\n",
       " 157: (1, 156),\n",
       " 158: (2, 156),\n",
       " 159: (3, 156),\n",
       " 160: (10, 150),\n",
       " 161: (1, 160),\n",
       " 162: (2, 160),\n",
       " 163: (3, 160),\n",
       " 164: (2, 162),\n",
       " 165: (2, 163),\n",
       " 166: (6, 160),\n",
       " 167: (1, 166),\n",
       " 168: (2, 166),\n",
       " 169: (3, 166),\n",
       " 170: (10, 160),\n",
       " 171: (1, 170),\n",
       " 172: (2, 170),\n",
       " 173: (3, 170),\n",
       " 174: (2, 172),\n",
       " 175: (2, 173),\n",
       " 176: (6, 170),\n",
       " 177: (1, 176),\n",
       " 178: (2, 176),\n",
       " 179: (3, 176),\n",
       " 180: (10, 170),\n",
       " 181: (1, 180),\n",
       " 182: (2, 180),\n",
       " 183: (3, 180),\n",
       " 184: (2, 182),\n",
       " 185: (2, 183),\n",
       " 186: (6, 180),\n",
       " 187: (1, 186),\n",
       " 188: (2, 186),\n",
       " 189: (3, 186),\n",
       " 190: (10, 180),\n",
       " 191: (1, 190),\n",
       " 192: (2, 190),\n",
       " 193: (3, 190),\n",
       " 194: (2, 192),\n",
       " 195: (2, 193),\n",
       " 196: (6, 190),\n",
       " 197: (1, 196),\n",
       " 198: (2, 196),\n",
       " 199: (3, 196),\n",
       " 200: (10, 190),\n",
       " 201: (1, 200),\n",
       " 202: (2, 200),\n",
       " 203: (3, 200),\n",
       " 204: (2, 202),\n",
       " 205: (2, 203),\n",
       " 206: (6, 200),\n",
       " 207: (1, 206),\n",
       " 208: (2, 206),\n",
       " 209: (3, 206),\n",
       " 210: (10, 200),\n",
       " 211: (1, 210),\n",
       " 212: (2, 210),\n",
       " 213: (3, 210),\n",
       " 214: (2, 212),\n",
       " 215: (2, 213),\n",
       " 216: (6, 210),\n",
       " 217: (1, 216),\n",
       " 218: (2, 216),\n",
       " 219: (3, 216),\n",
       " 220: (10, 210),\n",
       " 221: (1, 220),\n",
       " 222: (2, 220),\n",
       " 223: (3, 220),\n",
       " 224: (2, 222),\n",
       " 225: (2, 223),\n",
       " 226: (6, 220),\n",
       " 227: (1, 226),\n",
       " 228: (2, 226),\n",
       " 229: (3, 226),\n",
       " 230: (10, 220),\n",
       " 231: (1, 230),\n",
       " 232: (2, 230),\n",
       " 233: (3, 230),\n",
       " 234: (2, 232),\n",
       " 235: (2, 233),\n",
       " 236: (6, 230),\n",
       " 237: (1, 236),\n",
       " 238: (2, 236),\n",
       " 239: (3, 236),\n",
       " 240: (10, 230),\n",
       " 241: (1, 240),\n",
       " 242: (2, 240),\n",
       " 243: (3, 240),\n",
       " 244: (2, 242),\n",
       " 245: (2, 243),\n",
       " 246: (6, 240),\n",
       " 247: (1, 246),\n",
       " 248: (2, 246),\n",
       " 249: (3, 246),\n",
       " 250: (10, 240),\n",
       " 251: (1, 250),\n",
       " 252: (2, 250),\n",
       " 253: (3, 250),\n",
       " 254: (2, 252),\n",
       " 255: (2, 253),\n",
       " 256: (6, 250),\n",
       " 257: (1, 256),\n",
       " 258: (2, 256),\n",
       " 259: (3, 256),\n",
       " 260: (10, 250),\n",
       " 261: (1, 260),\n",
       " 262: (2, 260),\n",
       " 263: (3, 260),\n",
       " 264: (2, 262),\n",
       " 265: (2, 263),\n",
       " 266: (6, 260),\n",
       " 267: (1, 266),\n",
       " 268: (2, 266),\n",
       " 269: (3, 266),\n",
       " 270: (10, 260),\n",
       " 271: (1, 270),\n",
       " 272: (2, 270),\n",
       " 273: (3, 270),\n",
       " 274: (2, 272),\n",
       " 275: (2, 273),\n",
       " 276: (6, 270),\n",
       " 277: (1, 276),\n",
       " 278: (2, 276),\n",
       " 279: (3, 276),\n",
       " 280: (10, 270),\n",
       " 281: (1, 280),\n",
       " 282: (2, 280),\n",
       " 283: (3, 280),\n",
       " 284: (2, 282),\n",
       " 285: (2, 283),\n",
       " 286: (6, 280),\n",
       " 287: (1, 286),\n",
       " 288: (2, 286),\n",
       " 289: (3, 286),\n",
       " 290: (10, 280),\n",
       " 291: (1, 290),\n",
       " 292: (2, 290),\n",
       " 293: (3, 290),\n",
       " 294: (2, 292),\n",
       " 295: (2, 293),\n",
       " 296: (6, 290),\n",
       " 297: (1, 296),\n",
       " 298: (2, 296),\n",
       " 299: (3, 296),\n",
       " 300: (10, 290),\n",
       " 301: (1, 300),\n",
       " 302: (2, 300),\n",
       " 303: (3, 300),\n",
       " 304: (2, 302),\n",
       " 305: (2, 303),\n",
       " 306: (6, 300),\n",
       " 307: (1, 306),\n",
       " 308: (2, 306),\n",
       " 309: (3, 306),\n",
       " 310: (10, 300),\n",
       " 311: (1, 310),\n",
       " 312: (2, 310),\n",
       " 313: (3, 310),\n",
       " 314: (2, 312),\n",
       " 315: (2, 313),\n",
       " 316: (6, 310),\n",
       " 317: (1, 316),\n",
       " 318: (2, 316),\n",
       " 319: (3, 316),\n",
       " 320: (10, 310)}"
      ]
     },
     "execution_count": 33,
     "metadata": {},
     "output_type": "execute_result"
    }
   ],
   "source": [
    "solution"
   ]
  },
  {
   "cell_type": "markdown",
   "metadata": {},
   "source": [
    "###  Over lapping 如果子问题有重复，就是动态规划问题？？\n",
    "### dynamic programing 三步骤： 分析子问题的重复；把子问题的结果存储起来（用装饰器方法）；构建solution(递归)"
   ]
  },
  {
   "cell_type": "code",
   "execution_count": 34,
   "metadata": {},
   "outputs": [],
   "source": [
    "def not_cut(split):return split==0"
   ]
  },
  {
   "cell_type": "code",
   "execution_count": 35,
   "metadata": {},
   "outputs": [],
   "source": [
    "def parse_solution(target_length, revenue_solution):\n",
    "    #递归出口\n",
    "    left,right =revenue_solution[target_length]\n",
    "    #if target_length in revenue_solution and revenue_solution[target_length][0]==0\n",
    "    if not_cut(left):return [right]\n",
    "    # return [parse_solution(left，revenue_solution)]+ [parse_solution(right,revenue_solution=)] #注意返回时拆分的列表 避免直接值数量不一致\n",
    "    return parse_solution(left,revenue_solution)+ parse_solution(right,revenue_solution)"
   ]
  },
  {
   "cell_type": "code",
   "execution_count": 36,
   "metadata": {
    "scrolled": true
   },
   "outputs": [
    {
     "data": {
      "text/plain": [
       "[3, 6, 10, 10]"
      ]
     },
     "execution_count": 36,
     "metadata": {},
     "output_type": "execute_result"
    }
   ],
   "source": [
    "parse_solution(29,solution)"
   ]
  },
  {
   "cell_type": "markdown",
   "metadata": {},
   "source": [
    "再复习下课上提到的solution 解析的用法。为什么要显示所有的过程呢？"
   ]
  },
  {
   "cell_type": "markdown",
   "metadata": {},
   "source": [
    "# 分析： 采用搜索的方法和函数拟合的办法的比较"
   ]
  },
  {
   "cell_type": "markdown",
   "metadata": {},
   "source": [
    "机器学习获得是最大的概率解"
   ]
  },
  {
   "cell_type": "markdown",
   "metadata": {},
   "source": [
    "# 4. 最小编辑距离"
   ]
  },
  {
   "cell_type": "markdown",
   "metadata": {},
   "source": [
    "搜狗输入法的改进： 1.边界距离 2.概率模型 "
   ]
  },
  {
   "cell_type": "code",
   "execution_count": 37,
   "metadata": {},
   "outputs": [],
   "source": [
    "from functools import lru_cache  "
   ]
  },
  {
   "cell_type": "code",
   "execution_count": 53,
   "metadata": {},
   "outputs": [],
   "source": [
    "solution={}"
   ]
  },
  {
   "cell_type": "code",
   "execution_count": 54,
   "metadata": {},
   "outputs": [],
   "source": [
    "@lru_cache(maxsize=2**10)\n",
    "def edit_dist (str1,str2):\n",
    "    if len(str1)==0: return len(str2)\n",
    "    if len(str2)==0: return len(str1)\n",
    "    \n",
    "    tail_s1=str1[-1]\n",
    "    tail_s2=str2[-1]\n",
    "  # 类似于二叉树的前序遍历\n",
    "    candidates=[\n",
    "        (edit_dist(str1[:-1],str2)+1, 'ADD {}'.format(tail_s1)), #add word1 last charactor to str2\n",
    "        (edit_dist(str1,str2[:-1])+1, 'DEL {}'.format(tail_s2)), #delete word 2 last charactor\n",
    "    ]\n",
    "        \n",
    "    if tail_s1==tail_s2:\n",
    "        both_forward=(edit_dist(str1[:-1],str2[:-1])+0,'')    \n",
    " #       print (min_dist)\n",
    " #       return min_dist\n",
    "    else : \n",
    "        both_forward=(edit_dist(str1[:-1],str2[:-1])+1,'SUB {} => {}'.format(tail_s1, tail_s2)) \n",
    "        \"\"\"    \n",
    "        if len(str1)>len(str2):\n",
    "            return edit_dist(str1[:-1],str2)+1\n",
    "        elif len(str1)<len(str2):\n",
    "            return edit_dist(str1,str2[:-1])+1\n",
    "        else :\n",
    "            return edit_dist(str1[:-1],str2[-1]+1)\n",
    "            \n",
    "        \"\"\" \n",
    "       \n",
    "    candidates.append(both_forward)\n",
    "    min_dist,operation=min(candidates,key=lambda x: x[0])\n",
    "    \n",
    "    solution[(str1, str2)] = [operation]\n",
    " \n",
    "    return min_dist\n",
    "        \n",
    "            "
   ]
  },
  {
   "cell_type": "code",
   "execution_count": 55,
   "metadata": {
    "scrolled": true
   },
   "outputs": [
    {
     "data": {
      "text/plain": [
       "3"
      ]
     },
     "execution_count": 55,
     "metadata": {},
     "output_type": "execute_result"
    }
   ],
   "source": [
    "edit_dist('ABCDE', 'ABCCEFD')wosh"
   ]
  },
  {
   "cell_type": "code",
   "execution_count": 56,
   "metadata": {
    "scrolled": true
   },
   "outputs": [
    {
     "data": {
      "text/plain": [
       "{('A', 'A'): [''],\n",
       " ('A', 'AB'): ['DEL B'],\n",
       " ('A', 'ABC'): ['DEL C'],\n",
       " ('A', 'ABCC'): ['DEL C'],\n",
       " ('A', 'ABCCE'): ['DEL E'],\n",
       " ('A', 'ABCCEF'): ['DEL F'],\n",
       " ('A', 'ABCCEFD'): ['DEL D'],\n",
       " ('AB', 'A'): ['ADD B'],\n",
       " ('AB', 'AB'): [''],\n",
       " ('AB', 'ABC'): ['DEL C'],\n",
       " ('AB', 'ABCC'): ['DEL C'],\n",
       " ('AB', 'ABCCE'): ['DEL E'],\n",
       " ('AB', 'ABCCEF'): ['DEL F'],\n",
       " ('AB', 'ABCCEFD'): ['DEL D'],\n",
       " ('ABC', 'A'): ['ADD C'],\n",
       " ('ABC', 'AB'): ['ADD C'],\n",
       " ('ABC', 'ABC'): [''],\n",
       " ('ABC', 'ABCC'): ['DEL C'],\n",
       " ('ABC', 'ABCCE'): ['DEL E'],\n",
       " ('ABC', 'ABCCEF'): ['DEL F'],\n",
       " ('ABC', 'ABCCEFD'): ['DEL D'],\n",
       " ('ABCD', 'A'): ['ADD D'],\n",
       " ('ABCD', 'AB'): ['ADD D'],\n",
       " ('ABCD', 'ABC'): ['ADD D'],\n",
       " ('ABCD', 'ABCC'): ['SUB D => C'],\n",
       " ('ABCD', 'ABCCE'): ['DEL E'],\n",
       " ('ABCD', 'ABCCEF'): ['DEL F'],\n",
       " ('ABCD', 'ABCCEFD'): [''],\n",
       " ('ABCDE', 'A'): ['ADD E'],\n",
       " ('ABCDE', 'AB'): ['ADD E'],\n",
       " ('ABCDE', 'ABC'): ['ADD E'],\n",
       " ('ABCDE', 'ABCC'): ['ADD E'],\n",
       " ('ABCDE', 'ABCCE'): [''],\n",
       " ('ABCDE', 'ABCCEF'): ['DEL F'],\n",
       " ('ABCDE', 'ABCCEFD'): ['DEL D']}"
      ]
     },
     "execution_count": 56,
     "metadata": {},
     "output_type": "execute_result"
    }
   ],
   "source": [
    "solution"
   ]
  },
  {
   "cell_type": "code",
   "execution_count": 95,
   "metadata": {},
   "outputs": [],
   "source": [
    "def parse_solution(target_str1,target_str2,revenue_solution):\n",
    "    \n",
    "    \n",
    "    if target_str1==target_str2:\n",
    "        return [];\n",
    "    \n",
    "    if len(target_str1)>len(target_str2): \n",
    "        return revenue_solution[(target_str1,target_str2)]+parse_solution(target_str1[:-1],target_str2,revenue_solution)\n",
    "    elif len(target_str1)<len(target_str2): \n",
    "        return revenue_solution[(target_str1,target_str2)]+parse_solution(target_str1,target_str2[:-1],revenue_solution)\n",
    "    else:\n",
    "        print (target_str1,target_str2)\n",
    "        if revenue_solution[(target_str1,target_str2)]!=['']:\n",
    "            print('2')  \n",
    "            return revenue_solution[(target_str1,target_str2)]+parse_solution(target_str1[:-1],target_str2[:-1],revenue_solution)          \n",
    "        else :\n",
    "            return parse_solution(target_str1[:-1],target_str2[:-1],revenue_solution)\n"
   ]
  },
  {
   "cell_type": "code",
   "execution_count": 97,
   "metadata": {
    "scrolled": true
   },
   "outputs": [
    {
     "name": "stdout",
     "output_type": "stream",
     "text": [
      "ABCDE ABCCE\n",
      "ABCD ABCC\n",
      "2\n"
     ]
    },
    {
     "data": {
      "text/plain": [
       "['DEL F', 'SUB D => C']"
      ]
     },
     "execution_count": 97,
     "metadata": {},
     "output_type": "execute_result"
    }
   ],
   "source": [
    "parse_solution('ABCDE','ABCCEF',solution)"
   ]
  },
  {
   "cell_type": "code",
   "execution_count": 98,
   "metadata": {},
   "outputs": [
    {
     "data": {
      "text/plain": [
       "1"
      ]
     },
     "execution_count": 98,
     "metadata": {},
     "output_type": "execute_result"
    }
   ],
   "source": [
    "edit_dist('我最喜欢小猪佩奇', '我最喜欢小猪奇奇')"
   ]
  },
  {
   "cell_type": "code",
   "execution_count": 100,
   "metadata": {},
   "outputs": [
    {
     "name": "stdout",
     "output_type": "stream",
     "text": [
      "我最喜欢小猪佩奇 我最喜欢小猪奇奇\n",
      "我最喜欢小猪佩 我最喜欢小猪奇\n",
      "2\n"
     ]
    },
    {
     "data": {
      "text/plain": [
       "['SUB 佩 => 奇']"
      ]
     },
     "execution_count": 100,
     "metadata": {},
     "output_type": "execute_result"
    }
   ],
   "source": [
    "parse_solution('我最喜欢小猪佩奇','我最喜欢小猪奇奇',solution)"
   ]
  },
  {
   "cell_type": "code",
   "execution_count": null,
   "metadata": {},
   "outputs": [],
   "source": []
  }
 ],
 "metadata": {
  "kernelspec": {
   "display_name": "Python 3",
   "language": "python",
   "name": "python3"
  },
  "language_info": {
   "codemirror_mode": {
    "name": "ipython",
    "version": 3
   },
   "file_extension": ".py",
   "mimetype": "text/x-python",
   "name": "python",
   "nbconvert_exporter": "python",
   "pygments_lexer": "ipython3",
   "version": "3.7.1"
  }
 },
 "nbformat": 4,
 "nbformat_minor": 2
}
